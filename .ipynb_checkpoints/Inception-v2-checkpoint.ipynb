{
 "cells": [
  {
   "cell_type": "code",
   "execution_count": 3,
   "id": "84bad63f-6e04-41ce-84b0-76f23f7d3316",
   "metadata": {},
   "outputs": [],
   "source": [
    "import torch\n",
    "from torch import nn"
   ]
  },
  {
   "cell_type": "code",
   "execution_count": 7,
   "id": "bf897bef-1e77-45cc-8733-659311b0e18c",
   "metadata": {},
   "outputs": [],
   "source": [
    "class Basic_Conv(nn.Module):\n",
    "    def __init__(self, in_channels, out_channels, kernel_size, stride=1, padding=0):\n",
    "        super().__init__()\n",
    "\n",
    "        self.conv = nn.Conv2d(in_channels=in_channels, out_channels=out_channels, kernel_size=kernel_size, stride=stride, padding=padding)\n",
    "        self.BN = nn.BatchNorm2d(out_channels)\n",
    "        self.relu = nn.ReLU()\n",
    "\n",
    "    def forward(self, x):\n",
    "        x = self.conv(x)\n",
    "        x = self.BN(x)\n",
    "        x = nn.relu(x)\n",
    "\n",
    "        return x"
   ]
  },
  {
   "cell_type": "code",
   "execution_count": null,
   "id": "1e9753d9-043a-4f6b-a63d-2d04f0dcf7a2",
   "metadata": {},
   "outputs": [],
   "source": [
    "class Inception_type1(nn.Module):\n",
    "    def __init__(self, in_channels):\n",
    "        super().__init__()\n",
    "\n",
    "        self.branch1 = nn.Sequential(\n",
    "            Basic_Conv(in_channels, \n",
    "            "
   ]
  },
  {
   "cell_type": "code",
   "execution_count": null,
   "id": "1514d89a-926d-4f9d-91f0-0f296c891a14",
   "metadata": {},
   "outputs": [],
   "source": [
    "class InceptionV2(nn.Module):\n",
    "    def __init__(self, in_channels=3, num_classes=10):\n",
    "        super().__init__()\n",
    "\n",
    "        self.conv1 = Basic_Conv(in_channels=in_channels, out_channels=32, kernel_size=(3, 3), stride=2, padding=0)\n",
    "        self.conv2 = Basic_Conv(32, 32, 3)\n",
    "        self.conv3 = Basic_Conv(32, 64, 3, 1, 1)\n",
    "        self.maxpool1 = nn.MaxPool2d(kernel_size=3, stride=2)\n",
    "        self.conv4 = Basic_Conv(64, 80, 3)\n",
    "        self.conv5 = Basic_Conv(80, 192, 3, 2)\n",
    "        self.conv6 = Basic_Conv(192, 288, 3, 1, 1)\n",
    "\n",
    "\n",
    "    def forward(self, x):\n",
    "        x = self.conv1(x)\n",
    "        x = self.conv2(x)\n",
    "        x = self.conv3(x)\n",
    "        x = self.maxpool1(x)\n",
    "        x = self.conv4(x)\n",
    "        x = self.conv5(x)\n",
    "        x = self.conv6(x)\n",
    "        \n",
    "        \n",
    "        "
   ]
  }
 ],
 "metadata": {
  "kernelspec": {
   "display_name": "Python (env)",
   "language": "python",
   "name": "env"
  },
  "language_info": {
   "codemirror_mode": {
    "name": "ipython",
    "version": 3
   },
   "file_extension": ".py",
   "mimetype": "text/x-python",
   "name": "python",
   "nbconvert_exporter": "python",
   "pygments_lexer": "ipython3",
   "version": "3.8.19"
  }
 },
 "nbformat": 4,
 "nbformat_minor": 5
}
